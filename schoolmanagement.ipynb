{
 "cells": [
  {
   "cell_type": "code",
   "execution_count": 184,
   "id": "8b2dd7ee",
   "metadata": {},
   "outputs": [],
   "source": [
    "class Person:\n",
    "    def __init__(self, name, age, dob, gender, mobile, address):\n",
    "        self.name = name\n",
    "        self.age = age\n",
    "        self.dob = dob\n",
    "        self.gender = gender\n",
    "        self.mobile = mobile\n",
    "        self.address = address\n",
    "        \n",
    "    def show_details(self):\n",
    "        print(f\"\"\"\n",
    "        Name: {self.name}\n",
    "        Age: {self.age}\n",
    "        DOB: {self.dob}\n",
    "        Gender: {self.gender}\n",
    "        Mobile Number: {self.mobile}\n",
    "        Address: {self.address}\"\"\")\n",
    "        \n",
    "        \n",
    "class Student(Person):\n",
    "    def __init__(self,name, age, dob, gender, mobile, address, course, admissiondate, building, studentid):\n",
    "        super().__init__(name, age, dob, gender, mobile, address)\n",
    "        self.course = course\n",
    "        self.admissiondate = admissiondate\n",
    "        self.building = building\n",
    "        self.studentid = studentid\n",
    "        self.student_list = []\n",
    "        self.student_mark = {}\n",
    "        \n",
    "    def show_details(self):\n",
    "        print(f\"\"\"\n",
    "        Name: {self.name}\n",
    "        Age: {self.age}\n",
    "        DOB: {self.dob}\n",
    "        Gender: {self.gender}\n",
    "        Mobile Number: {self.mobile}\n",
    "        Address: {self.address}\n",
    "        Course: {self.course}\n",
    "        Date of Admission: {self.admissiondate}\n",
    "        Study Building: {self.building}\n",
    "        Student ID: {self.studentid}\"\"\")\n",
    "        \n",
    "    def addstudent(self):\n",
    "        print(f\"{self.name} is added to student portal\")\n",
    "        self.student_list.append(self.name)\n",
    "        print(self.student_list)\n",
    "        print(f\"{self.name} is added successfully to the portal\")\n",
    "        \n",
    "    def removestudent(self,stu):\n",
    "        print(f\"So {stu} is removing to the student's portal\")\n",
    "        self.student_list.remove(stu)\n",
    "        print(self.student_list)\n",
    "        print(f\"{stu} is removed successfully from the portal\")\n",
    "        \n",
    "    def set_X_marks(self,X):\n",
    "        self.Xmarks = X\n",
    "        print(f\"the marks of the 10th class is {X}\")\n",
    "        \n",
    "    def get_X_marks(self):\n",
    "        return self.Xmarks\n",
    "    \n",
    "    def set_XII_marks(self,XII):\n",
    "        self.XIImarks = XII\n",
    "        print(f\"the marks of the 12th class is {XII}\")\n",
    "        \n",
    "    def get_XII_marks(self):\n",
    "        return self.XIImarks\n",
    "        \n",
    "        \n",
    "    def fee_eligible(self,select,X,XII):\n",
    "        if X >= 60 and XII >= 60:\n",
    "            if select == self.course:\n",
    "                print(f\"{self.name} eligible for the  Program and the fees is 500000\")\n",
    "            elif select == self.course:\n",
    "                print(f\"{self.name} eligible for the MBA Program and the fees is 400000\")\n",
    "            else:\n",
    "                print(f\"{self.name} eligible for the BCA Program and the fees is 300000\")\n",
    "                \n",
    "    def student_marks(self, sem, per):\n",
    "        self.student_mark[sem] = per\n",
    "        print(f\"The {sem} percentage is added to the students marks dictionary is {per}\")\n",
    "        print(self.student_mark)\n",
    "        \n",
    "        \n",
    "class Teacher(Person):\n",
    "    def __init__(self,name, age, dob, gender, mobile, address, subject_teach, salary, teacherid):\n",
    "        super().__init__(name, age, dob, gender, mobile, address)\n",
    "        self.subject_teach = subject_teach\n",
    "        self.salary = salary\n",
    "        self.teacherid = teacherid\n",
    "        self.teacher_list = []\n",
    "        \n",
    "    def show_details(self):\n",
    "        print(f\"\"\"\n",
    "        Name: {self.name}\n",
    "        Age: {self.age}\n",
    "        DOB: {self.dob}\n",
    "        Gender: {self.gender}\n",
    "        Mobile Number: {self.mobile}\n",
    "        Address: {self.address}\n",
    "        Course Teacher: {self.subject_teach}\n",
    "        Teacher Salary: {self.salary}\n",
    "        Teacher ID: {self.teacherid}\"\"\")\n",
    "        \n",
    "    def addteacher(self):\n",
    "        print(f\"{self.name} is added to teacher portal\")\n",
    "        self.teacher_list.append(self.name)\n",
    "        print(self.teacher_list)\n",
    "        print(f\"{self.name} is added successfully to the portal\")\n",
    "        \n",
    "    def removeteacher(self,rem):\n",
    "        print(f\"So {rem} is removing to the teacher's portal\")\n",
    "        self.teacher_list.remove(rem)\n",
    "        print(self.teacher_list)\n",
    "        print(f\"{rem} is removed successfully from the portal\")\n",
    "        \n",
    "    def salary_structure(self):\n",
    "        if self.subject_teach == \"B.Tech\":\n",
    "            print(f\"The salary of {self.name} is {self.salary} for the B.Tech department\")\n",
    "        elif self.subject_teach == \"MBA\":\n",
    "            print(f\"The salary of {self.name} is {self.salary} for the MBA department\")\n",
    "        else:\n",
    "            print(f\"The salary of {self.name} is {self.salary} for the BCA department\")\n",
    "            \n",
    "            \n",
    "class Attendance(Student,Teacher):\n",
    "    def __init__(self,name, studentid, teacherid, day, presentorabsent, count=0):\n",
    "        super().__init__(name, studentid, teacherid)\n",
    "        self.student_attendance = {}\n",
    "        self.teacher_attendance = {}\n",
    "        \n",
    "        def insert_student_att(self,day,preorabs):\n",
    "            self.student_attendance[day] = preorabs\n",
    "            print(f\"Here is the attendance of {self.name}\")\n",
    "            print(self.student_attendance)\n",
    "            \n",
    "        def insert_teacher_att(self,day,preorabs):\n",
    "            self.teacher_attendance[day] = preorabs\n",
    "            print(f\"Here is the attendance of {self.name}\")\n",
    "            print(self.teacher_attendance)"
   ]
  },
  {
   "cell_type": "code",
   "execution_count": 185,
   "id": "79bb5f6f",
   "metadata": {},
   "outputs": [],
   "source": [
    "dinu = Student(\"Dinesh Sen\", 23, \"22-07-1998\", \"Male\", \"9821049636\", \"Railway Station\", \"B.Tech\", \"06-5-2017\", \"A\", 5)"
   ]
  },
  {
   "cell_type": "code",
   "execution_count": 186,
   "id": "e12d1007",
   "metadata": {},
   "outputs": [
    {
     "data": {
      "text/plain": [
       "5"
      ]
     },
     "execution_count": 186,
     "metadata": {},
     "output_type": "execute_result"
    }
   ],
   "source": [
    "dinu.studentid"
   ]
  },
  {
   "cell_type": "code",
   "execution_count": 187,
   "id": "cdbb2730",
   "metadata": {},
   "outputs": [
    {
     "name": "stdout",
     "output_type": "stream",
     "text": [
      "Dinesh Sen is added to student portal\n",
      "['Dinesh Sen']\n",
      "Dinesh Sen is added successfully to the portal\n"
     ]
    }
   ],
   "source": [
    "dinu.addstudent()"
   ]
  },
  {
   "cell_type": "code",
   "execution_count": 188,
   "id": "5ce7b834",
   "metadata": {},
   "outputs": [
    {
     "name": "stdout",
     "output_type": "stream",
     "text": [
      "The 1SEM percentage is added to the students marks dictionary is 80\n",
      "{'1SEM': 80}\n"
     ]
    }
   ],
   "source": [
    "dinu.student_marks(\"1SEM\",80)"
   ]
  },
  {
   "cell_type": "code",
   "execution_count": 190,
   "id": "72d19829",
   "metadata": {},
   "outputs": [],
   "source": [
    "Ritu = Teacher(\"Ritu agarwal\", 23, \"6-10-1998\", \"Female\", \"9821049636\", \"gwalior\", \"MBA\", 78000, 45)"
   ]
  },
  {
   "cell_type": "code",
   "execution_count": 191,
   "id": "99430ac4",
   "metadata": {},
   "outputs": [
    {
     "name": "stdout",
     "output_type": "stream",
     "text": [
      "\n",
      "        Name: Ritu agarwal\n",
      "        Age: 23\n",
      "        DOB: 6-10-1998\n",
      "        Gender: Female\n",
      "        Mobile Number: 9821049636\n",
      "        Address: gwalior\n",
      "        Course Teacher: MBA\n",
      "        Teacher Salary: 78000\n",
      "        Teacher ID: 45\n"
     ]
    }
   ],
   "source": [
    "Ritu.show_details()"
   ]
  },
  {
   "cell_type": "code",
   "execution_count": 192,
   "id": "e80fadd8",
   "metadata": {},
   "outputs": [
    {
     "name": "stdout",
     "output_type": "stream",
     "text": [
      "The salary of Ritu agarwal is 78000 for the MBA department\n"
     ]
    }
   ],
   "source": [
    "Ritu.salary_structure()"
   ]
  },
  {
   "cell_type": "code",
   "execution_count": 193,
   "id": "6f777483",
   "metadata": {},
   "outputs": [
    {
     "data": {
      "text/plain": [
       "'MBA'"
      ]
     },
     "execution_count": 193,
     "metadata": {},
     "output_type": "execute_result"
    }
   ],
   "source": [
    "Ritu.subject_teach"
   ]
  },
  {
   "cell_type": "code",
   "execution_count": null,
   "id": "e9435b31",
   "metadata": {},
   "outputs": [],
   "source": []
  },
  {
   "cell_type": "code",
   "execution_count": null,
   "id": "2d166f54",
   "metadata": {},
   "outputs": [],
   "source": []
  },
  {
   "cell_type": "code",
   "execution_count": null,
   "id": "a0fc5714",
   "metadata": {},
   "outputs": [],
   "source": []
  }
 ],
 "metadata": {
  "kernelspec": {
   "display_name": "Python 3 (ipykernel)",
   "language": "python",
   "name": "python3"
  },
  "language_info": {
   "codemirror_mode": {
    "name": "ipython",
    "version": 3
   },
   "file_extension": ".py",
   "mimetype": "text/x-python",
   "name": "python",
   "nbconvert_exporter": "python",
   "pygments_lexer": "ipython3",
   "version": "3.10.1"
  }
 },
 "nbformat": 4,
 "nbformat_minor": 5
}
